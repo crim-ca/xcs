{
 "cells": [
  {
   "cell_type": "code",
   "execution_count": 1,
   "metadata": {},
   "outputs": [],
   "source": [
    "%matplotlib inline\n",
    "\n",
    "import matplotlib\n",
    "import numpy as np\n",
    "import matplotlib.pyplot as plt"
   ]
  },
  {
   "cell_type": "code",
   "execution_count": 6,
   "metadata": {},
   "outputs": [],
   "source": [
    "a_map = [[  2 ,  4 ,  4 ,  4. ,  4],\n",
    " [  1  , 4 ,  3 ,  4. ,  4],\n",
    " [  4 ,  2. ,  4 ,  1 ,  4],\n",
    " [  2 ,  4.,   4 ,  4 ,  4],\n",
    " [100 ,  2 ,  4 ,  4 ,  2]]"
   ]
  },
  {
   "cell_type": "code",
   "execution_count": 7,
   "metadata": {},
   "outputs": [
    {
     "data": {
      "image/png": "[encoded data removed]",
      "text/plain": [
       "<matplotlib.figure.Figure at 0x107b6d350>"
      ]
     },
     "metadata": {},
     "output_type": "display_data"
    }
   ],
   "source": [
    "plt.plot(a_map)\n",
    "plt.show()"
   ]
  },
  {
   "cell_type": "code",
   "execution_count": 16,
   "metadata": {},
   "outputs": [],
   "source": [
    "from PIL import Image\n",
    "import numpy as np\n",
    "import math\n",
    "import numpy as np\n",
    "\n",
    "m_size = 5\n",
    "\n",
    "def choose_img_size_from_matrix_size(matrix_size: int) -> (int, int):\n",
    "    mult = ((int(math.floor(255/matrix_size))))\n",
    "    return mult * matrix_size\n",
    "\n",
    "multiplier, the_size = choose_img_size_from_matrix_size(matrix_size = m_size)\n",
    "\n",
    "def map2img(a_map: np.ndarray):\n",
    "    def map2img_value(value_in_map: int) -> int:\n",
    "        if value\n",
    "    max_x, max_y = a_map.shape\n",
    "    assert max_x == max_y\n",
    "    multiplier, the_size = choose_img_size_from_matrix_size(matrix_size = max_x)\n",
    "    data = np.zeros((the_size, the_size, 3), dtype=np.uint8)\n",
    "    for x in range(max_x):\n",
    "        for y in range(max_y):\n",
    "            init_x = x * multiplier\n",
    "            init_y = y * multiplier\n",
    "            if a_map\n",
    "            data[init_x:init_x + multiplier, init_y:init_y + multiplier] = \n",
    "            \n",
    "            \n",
    "\n",
    "half_of_it = int(math.floor(the_size/2))\n",
    "w, h = the_size, the_size\n",
    "data = np.zeros((h, w, 3), dtype=np.uint8)\n",
    "data[half_of_it, half_of_it] = [255, 255, 255]\n",
    "img = Image.fromarray(data, 'RGB')\n",
    "# img.save('my.png')\n",
    "img.show()"
   ]
  },
  {
   "cell_type": "code",
   "execution_count": 1,
   "metadata": {},
   "outputs": [],
   "source": [
    "from PIL import Image\n",
    "import numpy as np\n",
    "import math\n",
    "import numpy as np\n",
    "from typing import Tuple\n",
    "\n"
   ]
  },
  {
   "cell_type": "code",
   "execution_count": 71,
   "metadata": {},
   "outputs": [],
   "source": [
    "the_img = Image.open('/tmp/luis/imgs/optimal_moves_400.jpg')\n",
    "the_img.show()"
   ]
  },
  {
   "cell_type": "code",
   "execution_count": null,
   "metadata": {},
   "outputs": [],
   "source": []
  }
 ],
 "metadata": {
  "kernelspec": {
   "display_name": "Python [conda env:python3.6]",
   "language": "python",
   "name": "conda-env-python3.6-py"
  },
  "language_info": {
   "codemirror_mode": {
    "name": "ipython",
    "version": 3
   },
   "file_extension": ".py",
   "mimetype": "text/x-python",
   "name": "python",
   "nbconvert_exporter": "python",
   "pygments_lexer": "ipython3",
   "version": "3.6.5"
  }
 },
 "nbformat": 4,
 "nbformat_minor": 2
}
